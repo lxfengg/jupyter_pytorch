{
 "cells": [
  {
   "cell_type": "code",
   "execution_count": 3,
   "id": "82a369b4",
   "metadata": {},
   "outputs": [],
   "source": [
    "class neuralNetwork :\n",
    "    def __init__(self, inputnodes, hiddennodes, outputnodes, learningrate) :\n",
    "        self.inodes = inputnodes\n",
    "        self.hnodes = hiddennodes\n",
    "        self.onodes = outputnodes\n",
    "        self.lr = learningrate\n",
    "        \n",
    "    def train() :\n",
    "        pass\n",
    "        \n",
    "    def query() :\n",
    "        pass"
   ]
  },
  {
   "cell_type": "code",
   "execution_count": 4,
   "id": "71cb9ed1",
   "metadata": {},
   "outputs": [],
   "source": [
    "input_nodes = 3\n",
    "hindden_nodes = 3\n",
    "output_nodes = 3\n",
    "learning_nodes = 0.5\n",
    "\n",
    "n = neuralNetwork(input_nodes, hindden_nodes, output_nodes, learning_nodes)"
   ]
  },
  {
   "cell_type": "code",
   "execution_count": null,
   "id": "50a6902d",
   "metadata": {},
   "outputs": [],
   "source": []
  }
 ],
 "metadata": {
  "kernelspec": {
   "display_name": "Python [conda env:pytorch]",
   "language": "python",
   "name": "conda-env-pytorch-py"
  },
  "language_info": {
   "codemirror_mode": {
    "name": "ipython",
    "version": 3
   },
   "file_extension": ".py",
   "mimetype": "text/x-python",
   "name": "python",
   "nbconvert_exporter": "python",
   "pygments_lexer": "ipython3",
   "version": "3.11.5"
  }
 },
 "nbformat": 4,
 "nbformat_minor": 5
}
